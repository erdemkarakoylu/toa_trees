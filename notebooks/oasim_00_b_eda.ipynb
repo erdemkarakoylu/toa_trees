{
 "cells": [
  {
   "cell_type": "code",
   "execution_count": 1,
   "metadata": {},
   "outputs": [],
   "source": [
    "from pathlib import Path\n",
    "\n",
    "import pandas as pd\n",
    "from loguru import logger\n",
    "from sklearn.model_selection import train_test_split\n",
    "\n",
    "import mlflow\n",
    "#import mlflow.xgboost\n",
    "from sklearn.multioutput import MultiOutputRegressor\n",
    "from sklearn.decomposition import PCA\n",
    "import xgboost as xgb\n",
    "import numpy as np\n",
    "from sklearn.utils import resample\n",
    "import matplotlib.pyplot as pp\n",
    "from scripts.data_utils import DataLoader"
   ]
  },
  {
   "cell_type": "code",
   "execution_count": 2,
   "metadata": {},
   "outputs": [],
   "source": [
    "data_path = Path.home() / 'data/craig_pfc_2023/step_2_cleaned'\n",
    "project_path = Path.cwd().parent\n",
    "\n",
    "assert data_path.exists()\n",
    "assert project_path.exists()"
   ]
  },
  {
   "cell_type": "code",
   "execution_count": 3,
   "metadata": {},
   "outputs": [
    {
     "data": {
      "text/plain": [
       "[PosixPath('/Users/erdemkarakoylu/data/craig_pfc_2023/step_2_cleaned/df_phy.pqt'),\n",
       " PosixPath('/Users/erdemkarakoylu/data/craig_pfc_2023/step_2_cleaned/df_rrs.pqt'),\n",
       " PosixPath('/Users/erdemkarakoylu/data/craig_pfc_2023/step_2_cleaned/df_env.pqt'),\n",
       " PosixPath('/Users/erdemkarakoylu/data/craig_pfc_2023/step_2_cleaned/df_all.pqt')]"
      ]
     },
     "execution_count": 3,
     "metadata": {},
     "output_type": "execute_result"
    }
   ],
   "source": [
    "[i for i in data_path.glob('*.pqt')]"
   ]
  },
  {
   "cell_type": "code",
   "execution_count": 4,
   "metadata": {},
   "outputs": [
    {
     "name": "stderr",
     "output_type": "stream",
     "text": [
      "\u001b[32m2025-02-25 14:34:26.476\u001b[0m | \u001b[34m\u001b[1mDEBUG   \u001b[0m | \u001b[36mscripts.data_utils\u001b[0m:\u001b[36m__init__\u001b[0m:\u001b[36m17\u001b[0m - \u001b[34m\u001b[1mData directory set to /Users/erdemkarakoylu/data/craig_pfc_2023/step_2_cleaned\u001b[0m\n",
      "\u001b[32m2025-02-25 14:34:26.477\u001b[0m | \u001b[34m\u001b[1mDEBUG   \u001b[0m | \u001b[36mscripts.data_utils\u001b[0m:\u001b[36m__init__\u001b[0m:\u001b[36m18\u001b[0m - \u001b[34m\u001b[1mRrs file used: df_rrs.pqt\u001b[0m\n",
      "\u001b[32m2025-02-25 14:34:26.478\u001b[0m | \u001b[34m\u001b[1mDEBUG   \u001b[0m | \u001b[36mscripts.data_utils\u001b[0m:\u001b[36m__init__\u001b[0m:\u001b[36m19\u001b[0m - \u001b[34m\u001b[1mPhytoplankton file use df_phy.pqt\u001b[0m\n",
      "\u001b[32m2025-02-25 14:34:26.479\u001b[0m | \u001b[34m\u001b[1mDEBUG   \u001b[0m | \u001b[36mscripts.data_utils\u001b[0m:\u001b[36m__init__\u001b[0m:\u001b[36m21\u001b[0m - \u001b[34m\u001b[1mEnv file used: df_env.pqt\u001b[0m\n"
     ]
    }
   ],
   "source": [
    "loader = DataLoader(\n",
    "    data_path=data_path, rrs_file = 'df_rrs.pqt', phy_file='df_phy.pqt', env_file='df_env.pqt')"
   ]
  },
  {
   "cell_type": "code",
   "execution_count": 5,
   "metadata": {},
   "outputs": [],
   "source": [
    "drrs, dphyto, denv = loader.load_data()"
   ]
  },
  {
   "cell_type": "code",
   "execution_count": 6,
   "metadata": {},
   "outputs": [
    {
     "data": {
      "text/html": [
       "<div>\n",
       "<style scoped>\n",
       "    .dataframe tbody tr th:only-of-type {\n",
       "        vertical-align: middle;\n",
       "    }\n",
       "\n",
       "    .dataframe tbody tr th {\n",
       "        vertical-align: top;\n",
       "    }\n",
       "\n",
       "    .dataframe thead th {\n",
       "        text-align: right;\n",
       "    }\n",
       "</style>\n",
       "<table border=\"1\" class=\"dataframe\">\n",
       "  <thead>\n",
       "    <tr style=\"text-align: right;\">\n",
       "      <th></th>\n",
       "      <th>dia</th>\n",
       "      <th>chl</th>\n",
       "      <th>cya</th>\n",
       "      <th>coc</th>\n",
       "      <th>din</th>\n",
       "      <th>pha</th>\n",
       "      <th>tot_cphyl</th>\n",
       "    </tr>\n",
       "  </thead>\n",
       "  <tbody>\n",
       "    <tr>\n",
       "      <th>9</th>\n",
       "      <td>4.020039e-07</td>\n",
       "      <td>9.228475e-32</td>\n",
       "      <td>7.734924e-25</td>\n",
       "      <td>2.793631e-12</td>\n",
       "      <td>6.664053e-32</td>\n",
       "      <td>0.580815</td>\n",
       "      <td>0.580816</td>\n",
       "    </tr>\n",
       "    <tr>\n",
       "      <th>10</th>\n",
       "      <td>5.311658e-07</td>\n",
       "      <td>1.982182e-31</td>\n",
       "      <td>2.328640e-24</td>\n",
       "      <td>5.387787e-12</td>\n",
       "      <td>8.242992e-32</td>\n",
       "      <td>0.292451</td>\n",
       "      <td>0.292451</td>\n",
       "    </tr>\n",
       "    <tr>\n",
       "      <th>11</th>\n",
       "      <td>5.978775e-07</td>\n",
       "      <td>4.406061e-31</td>\n",
       "      <td>6.890358e-24</td>\n",
       "      <td>7.807611e-12</td>\n",
       "      <td>1.085986e-31</td>\n",
       "      <td>0.208651</td>\n",
       "      <td>0.208651</td>\n",
       "    </tr>\n",
       "    <tr>\n",
       "      <th>12</th>\n",
       "      <td>5.402634e-07</td>\n",
       "      <td>4.884837e-31</td>\n",
       "      <td>7.942443e-24</td>\n",
       "      <td>6.966778e-12</td>\n",
       "      <td>9.707731e-32</td>\n",
       "      <td>0.214010</td>\n",
       "      <td>0.214010</td>\n",
       "    </tr>\n",
       "    <tr>\n",
       "      <th>13</th>\n",
       "      <td>4.718567e-07</td>\n",
       "      <td>4.217055e-31</td>\n",
       "      <td>6.891656e-24</td>\n",
       "      <td>5.505389e-12</td>\n",
       "      <td>8.635218e-32</td>\n",
       "      <td>0.236728</td>\n",
       "      <td>0.236729</td>\n",
       "    </tr>\n",
       "  </tbody>\n",
       "</table>\n",
       "</div>"
      ],
      "text/plain": [
       "             dia           chl           cya           coc           din  \\\n",
       "9   4.020039e-07  9.228475e-32  7.734924e-25  2.793631e-12  6.664053e-32   \n",
       "10  5.311658e-07  1.982182e-31  2.328640e-24  5.387787e-12  8.242992e-32   \n",
       "11  5.978775e-07  4.406061e-31  6.890358e-24  7.807611e-12  1.085986e-31   \n",
       "12  5.402634e-07  4.884837e-31  7.942443e-24  6.966778e-12  9.707731e-32   \n",
       "13  4.718567e-07  4.217055e-31  6.891656e-24  5.505389e-12  8.635218e-32   \n",
       "\n",
       "         pha  tot_cphyl  \n",
       "9   0.580815   0.580816  \n",
       "10  0.292451   0.292451  \n",
       "11  0.208651   0.208651  \n",
       "12  0.214010   0.214010  \n",
       "13  0.236728   0.236729  "
      ]
     },
     "execution_count": 6,
     "metadata": {},
     "output_type": "execute_result"
    }
   ],
   "source": [
    "denv.head()"
   ]
  },
  {
   "cell_type": "code",
   "execution_count": 10,
   "metadata": {},
   "outputs": [
    {
     "name": "stdout",
     "output_type": "stream",
     "text": [
      "<class 'pandas.core.frame.DataFrame'>\n",
      "Index: 1261607 entries, 9 to 2089135\n",
      "Columns: 501 entries, 250 to 750\n",
      "dtypes: float64(501)\n",
      "memory usage: 4.7 GB\n"
     ]
    }
   ],
   "source": [
    "drrs.info()"
   ]
  },
  {
   "cell_type": "code",
   "execution_count": null,
   "metadata": {},
   "outputs": [],
   "source": [
    "from sklearn.decomposition import "
   ]
  },
  {
   "cell_type": "code",
   "execution_count": 11,
   "metadata": {},
   "outputs": [
    {
     "name": "stdout",
     "output_type": "stream",
     "text": [
      "<class 'pandas.core.frame.DataFrame'>\n",
      "Index: 1261607 entries, 9 to 2089135\n",
      "Data columns (total 5 columns):\n",
      " #   Column   Non-Null Count    Dtype  \n",
      "---  ------   --------------    -----  \n",
      " 0   lat      1261607 non-null  float64\n",
      " 1   temp     1261607 non-null  float64\n",
      " 2   nitrate  1261607 non-null  float64\n",
      " 3   iron     1261607 non-null  float64\n",
      " 4   silica   1261607 non-null  float64\n",
      "dtypes: float64(5)\n",
      "memory usage: 57.8 MB\n"
     ]
    }
   ],
   "source": [
    "denv.info()"
   ]
  },
  {
   "cell_type": "code",
   "execution_count": 12,
   "metadata": {},
   "outputs": [],
   "source": [
    "pca_rrs = PCA(n_components=100, random_state=42)"
   ]
  },
  {
   "cell_type": "code",
   "execution_count": 48,
   "metadata": {},
   "outputs": [],
   "source": [
    "pca_all = PCA(n_components = drrs.shape[1] + denv.shape[1], random_state=42)"
   ]
  },
  {
   "cell_type": "code",
   "execution_count": 13,
   "metadata": {},
   "outputs": [],
   "source": [
    "comp_rrs = pca_rrs.fit_transform(drrs)"
   ]
  },
  {
   "cell_type": "code",
   "execution_count": 68,
   "metadata": {},
   "outputs": [],
   "source": [
    "d_all = pd.concat((drrs, denv), axis=1)"
   ]
  },
  {
   "cell_type": "code",
   "execution_count": 67,
   "metadata": {},
   "outputs": [
    {
     "name": "stdout",
     "output_type": "stream",
     "text": [
      "<class 'pandas.core.frame.DataFrame'>\n",
      "Index: 1261607 entries, 9 to 2089135\n",
      "Data columns (total 5 columns):\n",
      " #   Column   Non-Null Count    Dtype  \n",
      "---  ------   --------------    -----  \n",
      " 0   lat      1261607 non-null  float64\n",
      " 1   temp     1261607 non-null  float64\n",
      " 2   nitrate  1261607 non-null  float64\n",
      " 3   iron     1261607 non-null  float64\n",
      " 4   silica   1261607 non-null  float64\n",
      "dtypes: float64(5)\n",
      "memory usage: 57.8 MB\n"
     ]
    }
   ],
   "source": [
    "denv.info()"
   ]
  },
  {
   "cell_type": "code",
   "execution_count": 66,
   "metadata": {},
   "outputs": [
    {
     "name": "stdout",
     "output_type": "stream",
     "text": [
      "<class 'pandas.core.frame.DataFrame'>\n",
      "Index: 1261607 entries, 9 to 2089135\n",
      "Columns: 501 entries, 250 to 750\n",
      "dtypes: float64(501)\n",
      "memory usage: 4.7 GB\n"
     ]
    }
   ],
   "source": [
    "drrs.info()"
   ]
  },
  {
   "cell_type": "code",
   "execution_count": 65,
   "metadata": {},
   "outputs": [
    {
     "name": "stdout",
     "output_type": "stream",
     "text": [
      "<class 'pandas.core.frame.DataFrame'>\n",
      "Index: 2523214 entries, 9 to 2089135\n",
      "Data columns (total 506 columns):\n",
      " #    Column   Dtype  \n",
      "---   ------   -----  \n",
      " 0    250      float64\n",
      " 1    251      float64\n",
      " 2    252      float64\n",
      " 3    253      float64\n",
      " 4    254      float64\n",
      " 5    255      float64\n",
      " 6    256      float64\n",
      " 7    257      float64\n",
      " 8    258      float64\n",
      " 9    259      float64\n",
      " 10   260      float64\n",
      " 11   261      float64\n",
      " 12   262      float64\n",
      " 13   263      float64\n",
      " 14   264      float64\n",
      " 15   265      float64\n",
      " 16   266      float64\n",
      " 17   267      float64\n",
      " 18   268      float64\n",
      " 19   269      float64\n",
      " 20   270      float64\n",
      " 21   271      float64\n",
      " 22   272      float64\n",
      " 23   273      float64\n",
      " 24   274      float64\n",
      " 25   275      float64\n",
      " 26   276      float64\n",
      " 27   277      float64\n",
      " 28   278      float64\n",
      " 29   279      float64\n",
      " 30   280      float64\n",
      " 31   281      float64\n",
      " 32   282      float64\n",
      " 33   283      float64\n",
      " 34   284      float64\n",
      " 35   285      float64\n",
      " 36   286      float64\n",
      " 37   287      float64\n",
      " 38   288      float64\n",
      " 39   289      float64\n",
      " 40   290      float64\n",
      " 41   291      float64\n",
      " 42   292      float64\n",
      " 43   293      float64\n",
      " 44   294      float64\n",
      " 45   295      float64\n",
      " 46   296      float64\n",
      " 47   297      float64\n",
      " 48   298      float64\n",
      " 49   299      float64\n",
      " 50   300      float64\n",
      " 51   301      float64\n",
      " 52   302      float64\n",
      " 53   303      float64\n",
      " 54   304      float64\n",
      " 55   305      float64\n",
      " 56   306      float64\n",
      " 57   307      float64\n",
      " 58   308      float64\n",
      " 59   309      float64\n",
      " 60   310      float64\n",
      " 61   311      float64\n",
      " 62   312      float64\n",
      " 63   313      float64\n",
      " 64   314      float64\n",
      " 65   315      float64\n",
      " 66   316      float64\n",
      " 67   317      float64\n",
      " 68   318      float64\n",
      " 69   319      float64\n",
      " 70   320      float64\n",
      " 71   321      float64\n",
      " 72   322      float64\n",
      " 73   323      float64\n",
      " 74   324      float64\n",
      " 75   325      float64\n",
      " 76   326      float64\n",
      " 77   327      float64\n",
      " 78   328      float64\n",
      " 79   329      float64\n",
      " 80   330      float64\n",
      " 81   331      float64\n",
      " 82   332      float64\n",
      " 83   333      float64\n",
      " 84   334      float64\n",
      " 85   335      float64\n",
      " 86   336      float64\n",
      " 87   337      float64\n",
      " 88   338      float64\n",
      " 89   339      float64\n",
      " 90   340      float64\n",
      " 91   341      float64\n",
      " 92   342      float64\n",
      " 93   343      float64\n",
      " 94   344      float64\n",
      " 95   345      float64\n",
      " 96   346      float64\n",
      " 97   347      float64\n",
      " 98   348      float64\n",
      " 99   349      float64\n",
      " 100  350      float64\n",
      " 101  351      float64\n",
      " 102  352      float64\n",
      " 103  353      float64\n",
      " 104  354      float64\n",
      " 105  355      float64\n",
      " 106  356      float64\n",
      " 107  357      float64\n",
      " 108  358      float64\n",
      " 109  359      float64\n",
      " 110  360      float64\n",
      " 111  361      float64\n",
      " 112  362      float64\n",
      " 113  363      float64\n",
      " 114  364      float64\n",
      " 115  365      float64\n",
      " 116  366      float64\n",
      " 117  367      float64\n",
      " 118  368      float64\n",
      " 119  369      float64\n",
      " 120  370      float64\n",
      " 121  371      float64\n",
      " 122  372      float64\n",
      " 123  373      float64\n",
      " 124  374      float64\n",
      " 125  375      float64\n",
      " 126  376      float64\n",
      " 127  377      float64\n",
      " 128  378      float64\n",
      " 129  379      float64\n",
      " 130  380      float64\n",
      " 131  381      float64\n",
      " 132  382      float64\n",
      " 133  383      float64\n",
      " 134  384      float64\n",
      " 135  385      float64\n",
      " 136  386      float64\n",
      " 137  387      float64\n",
      " 138  388      float64\n",
      " 139  389      float64\n",
      " 140  390      float64\n",
      " 141  391      float64\n",
      " 142  392      float64\n",
      " 143  393      float64\n",
      " 144  394      float64\n",
      " 145  395      float64\n",
      " 146  396      float64\n",
      " 147  397      float64\n",
      " 148  398      float64\n",
      " 149  399      float64\n",
      " 150  400      float64\n",
      " 151  401      float64\n",
      " 152  402      float64\n",
      " 153  403      float64\n",
      " 154  404      float64\n",
      " 155  405      float64\n",
      " 156  406      float64\n",
      " 157  407      float64\n",
      " 158  408      float64\n",
      " 159  409      float64\n",
      " 160  410      float64\n",
      " 161  411      float64\n",
      " 162  412      float64\n",
      " 163  413      float64\n",
      " 164  414      float64\n",
      " 165  415      float64\n",
      " 166  416      float64\n",
      " 167  417      float64\n",
      " 168  418      float64\n",
      " 169  419      float64\n",
      " 170  420      float64\n",
      " 171  421      float64\n",
      " 172  422      float64\n",
      " 173  423      float64\n",
      " 174  424      float64\n",
      " 175  425      float64\n",
      " 176  426      float64\n",
      " 177  427      float64\n",
      " 178  428      float64\n",
      " 179  429      float64\n",
      " 180  430      float64\n",
      " 181  431      float64\n",
      " 182  432      float64\n",
      " 183  433      float64\n",
      " 184  434      float64\n",
      " 185  435      float64\n",
      " 186  436      float64\n",
      " 187  437      float64\n",
      " 188  438      float64\n",
      " 189  439      float64\n",
      " 190  440      float64\n",
      " 191  441      float64\n",
      " 192  442      float64\n",
      " 193  443      float64\n",
      " 194  444      float64\n",
      " 195  445      float64\n",
      " 196  446      float64\n",
      " 197  447      float64\n",
      " 198  448      float64\n",
      " 199  449      float64\n",
      " 200  450      float64\n",
      " 201  451      float64\n",
      " 202  452      float64\n",
      " 203  453      float64\n",
      " 204  454      float64\n",
      " 205  455      float64\n",
      " 206  456      float64\n",
      " 207  457      float64\n",
      " 208  458      float64\n",
      " 209  459      float64\n",
      " 210  460      float64\n",
      " 211  461      float64\n",
      " 212  462      float64\n",
      " 213  463      float64\n",
      " 214  464      float64\n",
      " 215  465      float64\n",
      " 216  466      float64\n",
      " 217  467      float64\n",
      " 218  468      float64\n",
      " 219  469      float64\n",
      " 220  470      float64\n",
      " 221  471      float64\n",
      " 222  472      float64\n",
      " 223  473      float64\n",
      " 224  474      float64\n",
      " 225  475      float64\n",
      " 226  476      float64\n",
      " 227  477      float64\n",
      " 228  478      float64\n",
      " 229  479      float64\n",
      " 230  480      float64\n",
      " 231  481      float64\n",
      " 232  482      float64\n",
      " 233  483      float64\n",
      " 234  484      float64\n",
      " 235  485      float64\n",
      " 236  486      float64\n",
      " 237  487      float64\n",
      " 238  488      float64\n",
      " 239  489      float64\n",
      " 240  490      float64\n",
      " 241  491      float64\n",
      " 242  492      float64\n",
      " 243  493      float64\n",
      " 244  494      float64\n",
      " 245  495      float64\n",
      " 246  496      float64\n",
      " 247  497      float64\n",
      " 248  498      float64\n",
      " 249  499      float64\n",
      " 250  500      float64\n",
      " 251  501      float64\n",
      " 252  502      float64\n",
      " 253  503      float64\n",
      " 254  504      float64\n",
      " 255  505      float64\n",
      " 256  506      float64\n",
      " 257  507      float64\n",
      " 258  508      float64\n",
      " 259  509      float64\n",
      " 260  510      float64\n",
      " 261  511      float64\n",
      " 262  512      float64\n",
      " 263  513      float64\n",
      " 264  514      float64\n",
      " 265  515      float64\n",
      " 266  516      float64\n",
      " 267  517      float64\n",
      " 268  518      float64\n",
      " 269  519      float64\n",
      " 270  520      float64\n",
      " 271  521      float64\n",
      " 272  522      float64\n",
      " 273  523      float64\n",
      " 274  524      float64\n",
      " 275  525      float64\n",
      " 276  526      float64\n",
      " 277  527      float64\n",
      " 278  528      float64\n",
      " 279  529      float64\n",
      " 280  530      float64\n",
      " 281  531      float64\n",
      " 282  532      float64\n",
      " 283  533      float64\n",
      " 284  534      float64\n",
      " 285  535      float64\n",
      " 286  536      float64\n",
      " 287  537      float64\n",
      " 288  538      float64\n",
      " 289  539      float64\n",
      " 290  540      float64\n",
      " 291  541      float64\n",
      " 292  542      float64\n",
      " 293  543      float64\n",
      " 294  544      float64\n",
      " 295  545      float64\n",
      " 296  546      float64\n",
      " 297  547      float64\n",
      " 298  548      float64\n",
      " 299  549      float64\n",
      " 300  550      float64\n",
      " 301  551      float64\n",
      " 302  552      float64\n",
      " 303  553      float64\n",
      " 304  554      float64\n",
      " 305  555      float64\n",
      " 306  556      float64\n",
      " 307  557      float64\n",
      " 308  558      float64\n",
      " 309  559      float64\n",
      " 310  560      float64\n",
      " 311  561      float64\n",
      " 312  562      float64\n",
      " 313  563      float64\n",
      " 314  564      float64\n",
      " 315  565      float64\n",
      " 316  566      float64\n",
      " 317  567      float64\n",
      " 318  568      float64\n",
      " 319  569      float64\n",
      " 320  570      float64\n",
      " 321  571      float64\n",
      " 322  572      float64\n",
      " 323  573      float64\n",
      " 324  574      float64\n",
      " 325  575      float64\n",
      " 326  576      float64\n",
      " 327  577      float64\n",
      " 328  578      float64\n",
      " 329  579      float64\n",
      " 330  580      float64\n",
      " 331  581      float64\n",
      " 332  582      float64\n",
      " 333  583      float64\n",
      " 334  584      float64\n",
      " 335  585      float64\n",
      " 336  586      float64\n",
      " 337  587      float64\n",
      " 338  588      float64\n",
      " 339  589      float64\n",
      " 340  590      float64\n",
      " 341  591      float64\n",
      " 342  592      float64\n",
      " 343  593      float64\n",
      " 344  594      float64\n",
      " 345  595      float64\n",
      " 346  596      float64\n",
      " 347  597      float64\n",
      " 348  598      float64\n",
      " 349  599      float64\n",
      " 350  600      float64\n",
      " 351  601      float64\n",
      " 352  602      float64\n",
      " 353  603      float64\n",
      " 354  604      float64\n",
      " 355  605      float64\n",
      " 356  606      float64\n",
      " 357  607      float64\n",
      " 358  608      float64\n",
      " 359  609      float64\n",
      " 360  610      float64\n",
      " 361  611      float64\n",
      " 362  612      float64\n",
      " 363  613      float64\n",
      " 364  614      float64\n",
      " 365  615      float64\n",
      " 366  616      float64\n",
      " 367  617      float64\n",
      " 368  618      float64\n",
      " 369  619      float64\n",
      " 370  620      float64\n",
      " 371  621      float64\n",
      " 372  622      float64\n",
      " 373  623      float64\n",
      " 374  624      float64\n",
      " 375  625      float64\n",
      " 376  626      float64\n",
      " 377  627      float64\n",
      " 378  628      float64\n",
      " 379  629      float64\n",
      " 380  630      float64\n",
      " 381  631      float64\n",
      " 382  632      float64\n",
      " 383  633      float64\n",
      " 384  634      float64\n",
      " 385  635      float64\n",
      " 386  636      float64\n",
      " 387  637      float64\n",
      " 388  638      float64\n",
      " 389  639      float64\n",
      " 390  640      float64\n",
      " 391  641      float64\n",
      " 392  642      float64\n",
      " 393  643      float64\n",
      " 394  644      float64\n",
      " 395  645      float64\n",
      " 396  646      float64\n",
      " 397  647      float64\n",
      " 398  648      float64\n",
      " 399  649      float64\n",
      " 400  650      float64\n",
      " 401  651      float64\n",
      " 402  652      float64\n",
      " 403  653      float64\n",
      " 404  654      float64\n",
      " 405  655      float64\n",
      " 406  656      float64\n",
      " 407  657      float64\n",
      " 408  658      float64\n",
      " 409  659      float64\n",
      " 410  660      float64\n",
      " 411  661      float64\n",
      " 412  662      float64\n",
      " 413  663      float64\n",
      " 414  664      float64\n",
      " 415  665      float64\n",
      " 416  666      float64\n",
      " 417  667      float64\n",
      " 418  668      float64\n",
      " 419  669      float64\n",
      " 420  670      float64\n",
      " 421  671      float64\n",
      " 422  672      float64\n",
      " 423  673      float64\n",
      " 424  674      float64\n",
      " 425  675      float64\n",
      " 426  676      float64\n",
      " 427  677      float64\n",
      " 428  678      float64\n",
      " 429  679      float64\n",
      " 430  680      float64\n",
      " 431  681      float64\n",
      " 432  682      float64\n",
      " 433  683      float64\n",
      " 434  684      float64\n",
      " 435  685      float64\n",
      " 436  686      float64\n",
      " 437  687      float64\n",
      " 438  688      float64\n",
      " 439  689      float64\n",
      " 440  690      float64\n",
      " 441  691      float64\n",
      " 442  692      float64\n",
      " 443  693      float64\n",
      " 444  694      float64\n",
      " 445  695      float64\n",
      " 446  696      float64\n",
      " 447  697      float64\n",
      " 448  698      float64\n",
      " 449  699      float64\n",
      " 450  700      float64\n",
      " 451  701      float64\n",
      " 452  702      float64\n",
      " 453  703      float64\n",
      " 454  704      float64\n",
      " 455  705      float64\n",
      " 456  706      float64\n",
      " 457  707      float64\n",
      " 458  708      float64\n",
      " 459  709      float64\n",
      " 460  710      float64\n",
      " 461  711      float64\n",
      " 462  712      float64\n",
      " 463  713      float64\n",
      " 464  714      float64\n",
      " 465  715      float64\n",
      " 466  716      float64\n",
      " 467  717      float64\n",
      " 468  718      float64\n",
      " 469  719      float64\n",
      " 470  720      float64\n",
      " 471  721      float64\n",
      " 472  722      float64\n",
      " 473  723      float64\n",
      " 474  724      float64\n",
      " 475  725      float64\n",
      " 476  726      float64\n",
      " 477  727      float64\n",
      " 478  728      float64\n",
      " 479  729      float64\n",
      " 480  730      float64\n",
      " 481  731      float64\n",
      " 482  732      float64\n",
      " 483  733      float64\n",
      " 484  734      float64\n",
      " 485  735      float64\n",
      " 486  736      float64\n",
      " 487  737      float64\n",
      " 488  738      float64\n",
      " 489  739      float64\n",
      " 490  740      float64\n",
      " 491  741      float64\n",
      " 492  742      float64\n",
      " 493  743      float64\n",
      " 494  744      float64\n",
      " 495  745      float64\n",
      " 496  746      float64\n",
      " 497  747      float64\n",
      " 498  748      float64\n",
      " 499  749      float64\n",
      " 500  750      float64\n",
      " 501  lat      float64\n",
      " 502  temp     float64\n",
      " 503  nitrate  float64\n",
      " 504  iron     float64\n",
      " 505  silica   float64\n",
      "dtypes: float64(506)\n",
      "memory usage: 9.5 GB\n"
     ]
    }
   ],
   "source": [
    "d_all.info(verbose=True)"
   ]
  },
  {
   "cell_type": "code",
   "execution_count": 57,
   "metadata": {},
   "outputs": [],
   "source": [
    "new_columns = {k: str(k) for k in d_all.columns}"
   ]
  },
  {
   "cell_type": "code",
   "execution_count": 58,
   "metadata": {},
   "outputs": [],
   "source": [
    "d_all.rename(columns=new_columns, inplace=True)"
   ]
  },
  {
   "cell_type": "code",
   "execution_count": 61,
   "metadata": {},
   "outputs": [],
   "source": [
    "d_all.dropna(inplace=True)"
   ]
  },
  {
   "cell_type": "code",
   "execution_count": 62,
   "metadata": {},
   "outputs": [
    {
     "ename": "ValueError",
     "evalue": "Found array with 0 sample(s) (shape=(0, 506)) while a minimum of 1 is required by PCA.",
     "output_type": "error",
     "traceback": [
      "\u001b[0;31m---------------------------------------------------------------------------\u001b[0m",
      "\u001b[0;31mValueError\u001b[0m                                Traceback (most recent call last)",
      "Cell \u001b[0;32mIn[62], line 1\u001b[0m\n\u001b[0;32m----> 1\u001b[0m comp_all \u001b[38;5;241m=\u001b[39m \u001b[43mpca_all\u001b[49m\u001b[38;5;241;43m.\u001b[39;49m\u001b[43mfit_transform\u001b[49m\u001b[43m(\u001b[49m\u001b[43md_all\u001b[49m\u001b[43m)\u001b[49m\n",
      "File \u001b[0;32m~/miniconda3/envs/ptoa_py312/lib/python3.12/site-packages/sklearn/utils/_set_output.py:319\u001b[0m, in \u001b[0;36m_wrap_method_output.<locals>.wrapped\u001b[0;34m(self, X, *args, **kwargs)\u001b[0m\n\u001b[1;32m    317\u001b[0m \u001b[38;5;129m@wraps\u001b[39m(f)\n\u001b[1;32m    318\u001b[0m \u001b[38;5;28;01mdef\u001b[39;00m\u001b[38;5;250m \u001b[39m\u001b[38;5;21mwrapped\u001b[39m(\u001b[38;5;28mself\u001b[39m, X, \u001b[38;5;241m*\u001b[39margs, \u001b[38;5;241m*\u001b[39m\u001b[38;5;241m*\u001b[39mkwargs):\n\u001b[0;32m--> 319\u001b[0m     data_to_wrap \u001b[38;5;241m=\u001b[39m \u001b[43mf\u001b[49m\u001b[43m(\u001b[49m\u001b[38;5;28;43mself\u001b[39;49m\u001b[43m,\u001b[49m\u001b[43m \u001b[49m\u001b[43mX\u001b[49m\u001b[43m,\u001b[49m\u001b[43m \u001b[49m\u001b[38;5;241;43m*\u001b[39;49m\u001b[43margs\u001b[49m\u001b[43m,\u001b[49m\u001b[43m \u001b[49m\u001b[38;5;241;43m*\u001b[39;49m\u001b[38;5;241;43m*\u001b[39;49m\u001b[43mkwargs\u001b[49m\u001b[43m)\u001b[49m\n\u001b[1;32m    320\u001b[0m     \u001b[38;5;28;01mif\u001b[39;00m \u001b[38;5;28misinstance\u001b[39m(data_to_wrap, \u001b[38;5;28mtuple\u001b[39m):\n\u001b[1;32m    321\u001b[0m         \u001b[38;5;66;03m# only wrap the first output for cross decomposition\u001b[39;00m\n\u001b[1;32m    322\u001b[0m         return_tuple \u001b[38;5;241m=\u001b[39m (\n\u001b[1;32m    323\u001b[0m             _wrap_data_with_container(method, data_to_wrap[\u001b[38;5;241m0\u001b[39m], X, \u001b[38;5;28mself\u001b[39m),\n\u001b[1;32m    324\u001b[0m             \u001b[38;5;241m*\u001b[39mdata_to_wrap[\u001b[38;5;241m1\u001b[39m:],\n\u001b[1;32m    325\u001b[0m         )\n",
      "File \u001b[0;32m~/miniconda3/envs/ptoa_py312/lib/python3.12/site-packages/sklearn/base.py:1389\u001b[0m, in \u001b[0;36m_fit_context.<locals>.decorator.<locals>.wrapper\u001b[0;34m(estimator, *args, **kwargs)\u001b[0m\n\u001b[1;32m   1382\u001b[0m     estimator\u001b[38;5;241m.\u001b[39m_validate_params()\n\u001b[1;32m   1384\u001b[0m \u001b[38;5;28;01mwith\u001b[39;00m config_context(\n\u001b[1;32m   1385\u001b[0m     skip_parameter_validation\u001b[38;5;241m=\u001b[39m(\n\u001b[1;32m   1386\u001b[0m         prefer_skip_nested_validation \u001b[38;5;129;01mor\u001b[39;00m global_skip_validation\n\u001b[1;32m   1387\u001b[0m     )\n\u001b[1;32m   1388\u001b[0m ):\n\u001b[0;32m-> 1389\u001b[0m     \u001b[38;5;28;01mreturn\u001b[39;00m \u001b[43mfit_method\u001b[49m\u001b[43m(\u001b[49m\u001b[43mestimator\u001b[49m\u001b[43m,\u001b[49m\u001b[43m \u001b[49m\u001b[38;5;241;43m*\u001b[39;49m\u001b[43margs\u001b[49m\u001b[43m,\u001b[49m\u001b[43m \u001b[49m\u001b[38;5;241;43m*\u001b[39;49m\u001b[38;5;241;43m*\u001b[39;49m\u001b[43mkwargs\u001b[49m\u001b[43m)\u001b[49m\n",
      "File \u001b[0;32m~/miniconda3/envs/ptoa_py312/lib/python3.12/site-packages/sklearn/decomposition/_pca.py:468\u001b[0m, in \u001b[0;36mPCA.fit_transform\u001b[0;34m(self, X, y)\u001b[0m\n\u001b[1;32m    445\u001b[0m \u001b[38;5;129m@_fit_context\u001b[39m(prefer_skip_nested_validation\u001b[38;5;241m=\u001b[39m\u001b[38;5;28;01mTrue\u001b[39;00m)\n\u001b[1;32m    446\u001b[0m \u001b[38;5;28;01mdef\u001b[39;00m\u001b[38;5;250m \u001b[39m\u001b[38;5;21mfit_transform\u001b[39m(\u001b[38;5;28mself\u001b[39m, X, y\u001b[38;5;241m=\u001b[39m\u001b[38;5;28;01mNone\u001b[39;00m):\n\u001b[1;32m    447\u001b[0m \u001b[38;5;250m    \u001b[39m\u001b[38;5;124;03m\"\"\"Fit the model with X and apply the dimensionality reduction on X.\u001b[39;00m\n\u001b[1;32m    448\u001b[0m \n\u001b[1;32m    449\u001b[0m \u001b[38;5;124;03m    Parameters\u001b[39;00m\n\u001b[0;32m   (...)\u001b[0m\n\u001b[1;32m    466\u001b[0m \u001b[38;5;124;03m    C-ordered array, use 'np.ascontiguousarray'.\u001b[39;00m\n\u001b[1;32m    467\u001b[0m \u001b[38;5;124;03m    \"\"\"\u001b[39;00m\n\u001b[0;32m--> 468\u001b[0m     U, S, _, X, x_is_centered, xp \u001b[38;5;241m=\u001b[39m \u001b[38;5;28;43mself\u001b[39;49m\u001b[38;5;241;43m.\u001b[39;49m\u001b[43m_fit\u001b[49m\u001b[43m(\u001b[49m\u001b[43mX\u001b[49m\u001b[43m)\u001b[49m\n\u001b[1;32m    469\u001b[0m     \u001b[38;5;28;01mif\u001b[39;00m U \u001b[38;5;129;01mis\u001b[39;00m \u001b[38;5;129;01mnot\u001b[39;00m \u001b[38;5;28;01mNone\u001b[39;00m:\n\u001b[1;32m    470\u001b[0m         U \u001b[38;5;241m=\u001b[39m U[:, : \u001b[38;5;28mself\u001b[39m\u001b[38;5;241m.\u001b[39mn_components_]\n",
      "File \u001b[0;32m~/miniconda3/envs/ptoa_py312/lib/python3.12/site-packages/sklearn/decomposition/_pca.py:505\u001b[0m, in \u001b[0;36mPCA._fit\u001b[0;34m(self, X)\u001b[0m\n\u001b[1;32m    495\u001b[0m     \u001b[38;5;28;01mraise\u001b[39;00m \u001b[38;5;167;01mValueError\u001b[39;00m(\n\u001b[1;32m    496\u001b[0m         \u001b[38;5;124m\"\u001b[39m\u001b[38;5;124mPCA with svd_solver=\u001b[39m\u001b[38;5;124m'\u001b[39m\u001b[38;5;124marpack\u001b[39m\u001b[38;5;124m'\u001b[39m\u001b[38;5;124m is not supported for Array API inputs.\u001b[39m\u001b[38;5;124m\"\u001b[39m\n\u001b[1;32m    497\u001b[0m     )\n\u001b[1;32m    499\u001b[0m \u001b[38;5;66;03m# Validate the data, without ever forcing a copy as any solver that\u001b[39;00m\n\u001b[1;32m    500\u001b[0m \u001b[38;5;66;03m# supports sparse input data and the `covariance_eigh` solver are\u001b[39;00m\n\u001b[1;32m    501\u001b[0m \u001b[38;5;66;03m# written in a way to avoid the need for any inplace modification of\u001b[39;00m\n\u001b[1;32m    502\u001b[0m \u001b[38;5;66;03m# the input data contrary to the other solvers.\u001b[39;00m\n\u001b[1;32m    503\u001b[0m \u001b[38;5;66;03m# The copy will happen\u001b[39;00m\n\u001b[1;32m    504\u001b[0m \u001b[38;5;66;03m# later, only if needed, once the solver negotiation below is done.\u001b[39;00m\n\u001b[0;32m--> 505\u001b[0m X \u001b[38;5;241m=\u001b[39m \u001b[43mvalidate_data\u001b[49m\u001b[43m(\u001b[49m\n\u001b[1;32m    506\u001b[0m \u001b[43m    \u001b[49m\u001b[38;5;28;43mself\u001b[39;49m\u001b[43m,\u001b[49m\n\u001b[1;32m    507\u001b[0m \u001b[43m    \u001b[49m\u001b[43mX\u001b[49m\u001b[43m,\u001b[49m\n\u001b[1;32m    508\u001b[0m \u001b[43m    \u001b[49m\u001b[43mdtype\u001b[49m\u001b[38;5;241;43m=\u001b[39;49m\u001b[43m[\u001b[49m\u001b[43mxp\u001b[49m\u001b[38;5;241;43m.\u001b[39;49m\u001b[43mfloat64\u001b[49m\u001b[43m,\u001b[49m\u001b[43m \u001b[49m\u001b[43mxp\u001b[49m\u001b[38;5;241;43m.\u001b[39;49m\u001b[43mfloat32\u001b[49m\u001b[43m]\u001b[49m\u001b[43m,\u001b[49m\n\u001b[1;32m    509\u001b[0m \u001b[43m    \u001b[49m\u001b[43mforce_writeable\u001b[49m\u001b[38;5;241;43m=\u001b[39;49m\u001b[38;5;28;43;01mTrue\u001b[39;49;00m\u001b[43m,\u001b[49m\n\u001b[1;32m    510\u001b[0m \u001b[43m    \u001b[49m\u001b[43maccept_sparse\u001b[49m\u001b[38;5;241;43m=\u001b[39;49m\u001b[43m(\u001b[49m\u001b[38;5;124;43m\"\u001b[39;49m\u001b[38;5;124;43mcsr\u001b[39;49m\u001b[38;5;124;43m\"\u001b[39;49m\u001b[43m,\u001b[49m\u001b[43m \u001b[49m\u001b[38;5;124;43m\"\u001b[39;49m\u001b[38;5;124;43mcsc\u001b[39;49m\u001b[38;5;124;43m\"\u001b[39;49m\u001b[43m)\u001b[49m\u001b[43m,\u001b[49m\n\u001b[1;32m    511\u001b[0m \u001b[43m    \u001b[49m\u001b[43mensure_2d\u001b[49m\u001b[38;5;241;43m=\u001b[39;49m\u001b[38;5;28;43;01mTrue\u001b[39;49;00m\u001b[43m,\u001b[49m\n\u001b[1;32m    512\u001b[0m \u001b[43m    \u001b[49m\u001b[43mcopy\u001b[49m\u001b[38;5;241;43m=\u001b[39;49m\u001b[38;5;28;43;01mFalse\u001b[39;49;00m\u001b[43m,\u001b[49m\n\u001b[1;32m    513\u001b[0m \u001b[43m\u001b[49m\u001b[43m)\u001b[49m\n\u001b[1;32m    514\u001b[0m \u001b[38;5;28mself\u001b[39m\u001b[38;5;241m.\u001b[39m_fit_svd_solver \u001b[38;5;241m=\u001b[39m \u001b[38;5;28mself\u001b[39m\u001b[38;5;241m.\u001b[39msvd_solver\n\u001b[1;32m    515\u001b[0m \u001b[38;5;28;01mif\u001b[39;00m \u001b[38;5;28mself\u001b[39m\u001b[38;5;241m.\u001b[39m_fit_svd_solver \u001b[38;5;241m==\u001b[39m \u001b[38;5;124m\"\u001b[39m\u001b[38;5;124mauto\u001b[39m\u001b[38;5;124m\"\u001b[39m \u001b[38;5;129;01mand\u001b[39;00m issparse(X):\n",
      "File \u001b[0;32m~/miniconda3/envs/ptoa_py312/lib/python3.12/site-packages/sklearn/utils/validation.py:2944\u001b[0m, in \u001b[0;36mvalidate_data\u001b[0;34m(_estimator, X, y, reset, validate_separately, skip_check_array, **check_params)\u001b[0m\n\u001b[1;32m   2942\u001b[0m         out \u001b[38;5;241m=\u001b[39m X, y\n\u001b[1;32m   2943\u001b[0m \u001b[38;5;28;01melif\u001b[39;00m \u001b[38;5;129;01mnot\u001b[39;00m no_val_X \u001b[38;5;129;01mand\u001b[39;00m no_val_y:\n\u001b[0;32m-> 2944\u001b[0m     out \u001b[38;5;241m=\u001b[39m \u001b[43mcheck_array\u001b[49m\u001b[43m(\u001b[49m\u001b[43mX\u001b[49m\u001b[43m,\u001b[49m\u001b[43m \u001b[49m\u001b[43minput_name\u001b[49m\u001b[38;5;241;43m=\u001b[39;49m\u001b[38;5;124;43m\"\u001b[39;49m\u001b[38;5;124;43mX\u001b[39;49m\u001b[38;5;124;43m\"\u001b[39;49m\u001b[43m,\u001b[49m\u001b[43m \u001b[49m\u001b[38;5;241;43m*\u001b[39;49m\u001b[38;5;241;43m*\u001b[39;49m\u001b[43mcheck_params\u001b[49m\u001b[43m)\u001b[49m\n\u001b[1;32m   2945\u001b[0m \u001b[38;5;28;01melif\u001b[39;00m no_val_X \u001b[38;5;129;01mand\u001b[39;00m \u001b[38;5;129;01mnot\u001b[39;00m no_val_y:\n\u001b[1;32m   2946\u001b[0m     out \u001b[38;5;241m=\u001b[39m _check_y(y, \u001b[38;5;241m*\u001b[39m\u001b[38;5;241m*\u001b[39mcheck_params)\n",
      "File \u001b[0;32m~/miniconda3/envs/ptoa_py312/lib/python3.12/site-packages/sklearn/utils/validation.py:1130\u001b[0m, in \u001b[0;36mcheck_array\u001b[0;34m(array, accept_sparse, accept_large_sparse, dtype, order, copy, force_writeable, force_all_finite, ensure_all_finite, ensure_non_negative, ensure_2d, allow_nd, ensure_min_samples, ensure_min_features, estimator, input_name)\u001b[0m\n\u001b[1;32m   1128\u001b[0m     n_samples \u001b[38;5;241m=\u001b[39m _num_samples(array)\n\u001b[1;32m   1129\u001b[0m     \u001b[38;5;28;01mif\u001b[39;00m n_samples \u001b[38;5;241m<\u001b[39m ensure_min_samples:\n\u001b[0;32m-> 1130\u001b[0m         \u001b[38;5;28;01mraise\u001b[39;00m \u001b[38;5;167;01mValueError\u001b[39;00m(\n\u001b[1;32m   1131\u001b[0m             \u001b[38;5;124m\"\u001b[39m\u001b[38;5;124mFound array with \u001b[39m\u001b[38;5;132;01m%d\u001b[39;00m\u001b[38;5;124m sample(s) (shape=\u001b[39m\u001b[38;5;132;01m%s\u001b[39;00m\u001b[38;5;124m) while a\u001b[39m\u001b[38;5;124m\"\u001b[39m\n\u001b[1;32m   1132\u001b[0m             \u001b[38;5;124m\"\u001b[39m\u001b[38;5;124m minimum of \u001b[39m\u001b[38;5;132;01m%d\u001b[39;00m\u001b[38;5;124m is required\u001b[39m\u001b[38;5;132;01m%s\u001b[39;00m\u001b[38;5;124m.\u001b[39m\u001b[38;5;124m\"\u001b[39m\n\u001b[1;32m   1133\u001b[0m             \u001b[38;5;241m%\u001b[39m (n_samples, array\u001b[38;5;241m.\u001b[39mshape, ensure_min_samples, context)\n\u001b[1;32m   1134\u001b[0m         )\n\u001b[1;32m   1136\u001b[0m \u001b[38;5;28;01mif\u001b[39;00m ensure_min_features \u001b[38;5;241m>\u001b[39m \u001b[38;5;241m0\u001b[39m \u001b[38;5;129;01mand\u001b[39;00m array\u001b[38;5;241m.\u001b[39mndim \u001b[38;5;241m==\u001b[39m \u001b[38;5;241m2\u001b[39m:\n\u001b[1;32m   1137\u001b[0m     n_features \u001b[38;5;241m=\u001b[39m array\u001b[38;5;241m.\u001b[39mshape[\u001b[38;5;241m1\u001b[39m]\n",
      "\u001b[0;31mValueError\u001b[0m: Found array with 0 sample(s) (shape=(0, 506)) while a minimum of 1 is required by PCA."
     ]
    }
   ],
   "source": [
    "comp_all = pca_all.fit_transform(d_all)"
   ]
  },
  {
   "cell_type": "code",
   "execution_count": 15,
   "metadata": {},
   "outputs": [
    {
     "data": {
      "text/plain": [
       "(1261607, 100)"
      ]
     },
     "execution_count": 15,
     "metadata": {},
     "output_type": "execute_result"
    }
   ],
   "source": [
    "comp_rrs.shape"
   ]
  },
  {
   "cell_type": "code",
   "execution_count": 24,
   "metadata": {},
   "outputs": [],
   "source": [
    "import seaborn as sb"
   ]
  },
  {
   "cell_type": "code",
   "execution_count": null,
   "metadata": {},
   "outputs": [],
   "source": [
    "sb.bar"
   ]
  },
  {
   "cell_type": "code",
   "execution_count": 33,
   "metadata": {},
   "outputs": [
    {
     "ename": "TypeError",
     "evalue": "blend_palette() missing 1 required positional argument: 'colors'",
     "output_type": "error",
     "traceback": [
      "\u001b[0;31m---------------------------------------------------------------------------\u001b[0m",
      "\u001b[0;31mTypeError\u001b[0m                                 Traceback (most recent call last)",
      "Cell \u001b[0;32mIn[33], line 1\u001b[0m\n\u001b[0;32m----> 1\u001b[0m \u001b[43msb\u001b[49m\u001b[38;5;241;43m.\u001b[39;49m\u001b[43mpalettes\u001b[49m\u001b[38;5;241;43m.\u001b[39;49m\u001b[43mblend_palette\u001b[49m\u001b[43m(\u001b[49m\u001b[43mn_colors\u001b[49m\u001b[38;5;241;43m=\u001b[39;49m\u001b[38;5;241;43m10\u001b[39;49m\u001b[43m)\u001b[49m\n",
      "\u001b[0;31mTypeError\u001b[0m: blend_palette() missing 1 required positional argument: 'colors'"
     ]
    }
   ],
   "source": [
    "sb.palettes.blend_palette(n_colors=10)"
   ]
  },
  {
   "cell_type": "code",
   "execution_count": null,
   "metadata": {},
   "outputs": [],
   "source": [
    "f"
   ]
  },
  {
   "cell_type": "code",
   "execution_count": 47,
   "metadata": {},
   "outputs": [
    {
     "data": {
      "text/plain": [
       "501"
      ]
     },
     "execution_count": 47,
     "metadata": {},
     "output_type": "execute_result"
    }
   ],
   "source": [
    "pca_rrs."
   ]
  },
  {
   "cell_type": "code",
   "execution_count": 44,
   "metadata": {},
   "outputs": [
    {
     "data": {
      "text/plain": [
       "<matplotlib.lines.Line2D at 0x14e0b85f0>"
      ]
     },
     "execution_count": 44,
     "metadata": {},
     "output_type": "execute_result"
    },
    {
     "data": {
      "image/png": "[encoded data removed]",
      "text/plain": [
       "<Figure size 1200x600 with 1 Axes>"
      ]
     },
     "metadata": {},
     "output_type": "display_data"
    }
   ],
   "source": [
    "variance_threshold=0.95\n",
    "f, ax = pp.subplots(figsize=(12, 6))\n",
    "pcs = [i for i in range(10)]\n",
    "xtlbl = [f'PC{i+1}' for i in range(10)]\n",
    "data = np.cumsum(pca_rrs.explained_variance_ratio_[:10])\n",
    "#ax.plot(data)\n",
    "sb.barplot(x=xtlbl, y=data,  ax=ax, alpha=0.5)#palette=sb.palettes.blend_palette(10))\n",
    "sb.lineplot(x=xtlbl, y=data, ax=ax, color='purple')\n",
    "ax.axhline(y=variance_threshold, ls='--', color='r')\n"
   ]
  },
  {
   "cell_type": "markdown",
   "metadata": {},
   "source": []
  }
 ],
 "metadata": {
  "kernelspec": {
   "display_name": "ptoa_py312",
   "language": "python",
   "name": "python3"
  },
  "language_info": {
   "codemirror_mode": {
    "name": "ipython",
    "version": 3
   },
   "file_extension": ".py",
   "mimetype": "text/x-python",
   "name": "python",
   "nbconvert_exporter": "python",
   "pygments_lexer": "ipython3",
   "version": "3.12.8"
  }
 },
 "nbformat": 4,
 "nbformat_minor": 2
}
